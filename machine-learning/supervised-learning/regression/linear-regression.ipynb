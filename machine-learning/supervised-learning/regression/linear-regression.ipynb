{
 "cells": [
  {
   "cell_type": "markdown",
   "metadata": {},
   "source": [
    "# Linear Regression"
   ]
  },
  {
   "cell_type": "markdown",
   "metadata": {},
   "source": [
    "Linear regression is used to predict the value of one variable based on the value of other variables.\n",
    "Here, the variable you want to predict is called the dependent variable and the variables that you use for prediction is called the independent variables. In simple Linear regression, we have one dependent variable and one (univariate) or more (multivariate) dependent variables.\n",
    "\n",
    "Suppose we have a dataset $(\\boldsymbol x_i, y_i)_{i=1}^n$ of size $n$. Here, a vector $\\boldsymbol x_i$ denotes the dependent variables of dimension $p$. That is, we have $\\boldsymbol x_i = (1, x _{i, 1}, \\cdots, x _{i, m})$. Since here we discuss a simple linear regression model, our independent variable $y_i$ is just a scalar."
   ]
  },
  {
   "cell_type": "markdown",
   "metadata": {},
   "source": [
    "Using a matrix notation, we have\n",
    "\n",
    "$$\n",
    "\\begin{align}\n",
    "\\boldsymbol Y = \\begin{bmatrix} y_1 \\\\ y_2  \\\\ \\vdots \\\\ y_n \\end{bmatrix}\n",
    "\\end{align}\n",
    "$$\n",
    "\n",
    "and\n",
    "\n",
    "$$\n",
    "\\begin{align}\n",
    "\\boldsymbol X = \n",
    "\\begin{bmatrix} \n",
    "\\boldsymbol 1 & x_{1,1} & \\cdots & x_{1,m} \\\\ \n",
    "1 & x_{2,1} & \\cdots & x_{2,m} \\\\ \n",
    "\\vdots & \\vdots & \\ddots & \\vdots \\\\ 1 & x_{n,1} & \\cdots & x_{n,m} \n",
    "\\end{bmatrix}\n",
    "\\end{align}\n",
    "$$\n",
    "\n",
    "so that\n",
    "\n",
    "$$\n",
    "\\begin{align}\n",
    "Y = \\boldsymbol X \\boldsymbol \\beta + \\boldsymbol \\epsilon\n",
    "\\end{align}\n",
    "$$\n",
    "\n",
    "where \n",
    "\n",
    "$$\n",
    "\\begin{align}\n",
    "\\boldsymbol \\beta =\n",
    "\\begin{bmatrix}\n",
    "\\beta_0 \\\\\n",
    "\\beta_1 \\\\\n",
    "\\vdots \\\\\n",
    "\\beta_m\n",
    "\\end{bmatrix}\n",
    "\\end{align}\n",
    "$$\n",
    "\n",
    "and\n",
    "\n",
    "$$\n",
    "\\begin{align}\n",
    "\\boldsymbol \\epsilon = \\begin{bmatrix} \\epsilon_1 \\\\ \\vdots \\\\ \\epsilon_n \\end{bmatrix}.\n",
    "\\end{align}\n",
    "$$\n",
    "\n",
    "Here, $\\epsilon_i$ for $i=1,\\cdots,n$ denotes a random error following a normal distribution, $\\epsilon_i \\sim N(0, \\sigma_i^2)$ for some standard deviation $\\sigma_i$, one of the assumptions that we make about the model. Other assumptions include:\n",
    "- The observatios are independent of each other. There is no dependency between independent variables, as the name suggests.\n",
    "- The random variables have homogenous variance. That is, $\\epsilon_1 = \\epsilon_2 = \\cdots = \\epsilon_n$. We call this feature homoscedasticity."
   ]
  },
  {
   "cell_type": "markdown",
   "metadata": {},
   "source": [
    "Our goal is to create a model that best explains the relationship between the dependent variable and the independent varaibles. For this purpose, our model is a linear line that minimises MSE (mean squared error), the square of the distances between our predicted values and the real values."
   ]
  },
  {
   "cell_type": "markdown",
   "metadata": {},
   "source": [
    "Let us develop a model using scikit-learn library now."
   ]
  },
  {
   "cell_type": "code",
   "execution_count": 29,
   "metadata": {},
   "outputs": [],
   "source": [
    "import numpy as np\n",
    "import pandas as pd\n",
    "import matplotlib.pyplot as plt\n",
    "import seaborn as sns\n",
    "from sklearn.linear_model import LinearRegression\n",
    "from sklearn.datasets import load_diabetes\n",
    "from sklearn.model_selection import train_test_split\n",
    "from sklearn.preprocessing import PolynomialFeatures"
   ]
  },
  {
   "cell_type": "markdown",
   "metadata": {},
   "source": [
    "We first load the dataset. We can see that the dataset `diabetes` consists of `data` and `target` where the `data` has features `age`, `sex`, `bmi`, `bp`, `s1`, `s2`, `s3`, `s4`, `s5`, and `s6`."
   ]
  },
  {
   "cell_type": "code",
   "execution_count": 30,
   "metadata": {},
   "outputs": [
    {
     "name": "stdout",
     "output_type": "stream",
     "text": [
      "{'data': array([[ 0.03807591,  0.05068012,  0.06169621, ..., -0.00259226,\n",
      "         0.01990749, -0.01764613],\n",
      "       [-0.00188202, -0.04464164, -0.05147406, ..., -0.03949338,\n",
      "        -0.06833155, -0.09220405],\n",
      "       [ 0.08529891,  0.05068012,  0.04445121, ..., -0.00259226,\n",
      "         0.00286131, -0.02593034],\n",
      "       ...,\n",
      "       [ 0.04170844,  0.05068012, -0.01590626, ..., -0.01107952,\n",
      "        -0.04688253,  0.01549073],\n",
      "       [-0.04547248, -0.04464164,  0.03906215, ...,  0.02655962,\n",
      "         0.04452873, -0.02593034],\n",
      "       [-0.04547248, -0.04464164, -0.0730303 , ..., -0.03949338,\n",
      "        -0.00422151,  0.00306441]]), 'target': array([151.,  75., 141., 206., 135.,  97., 138.,  63., 110., 310., 101.,\n",
      "        69., 179., 185., 118., 171., 166., 144.,  97., 168.,  68.,  49.,\n",
      "        68., 245., 184., 202., 137.,  85., 131., 283., 129.,  59., 341.,\n",
      "        87.,  65., 102., 265., 276., 252.,  90., 100.,  55.,  61.,  92.,\n",
      "       259.,  53., 190., 142.,  75., 142., 155., 225.,  59., 104., 182.,\n",
      "       128.,  52.,  37., 170., 170.,  61., 144.,  52., 128.,  71., 163.,\n",
      "       150.,  97., 160., 178.,  48., 270., 202., 111.,  85.,  42., 170.,\n",
      "       200., 252., 113., 143.,  51.,  52., 210.,  65., 141.,  55., 134.,\n",
      "        42., 111.,  98., 164.,  48.,  96.,  90., 162., 150., 279.,  92.,\n",
      "        83., 128., 102., 302., 198.,  95.,  53., 134., 144., 232.,  81.,\n",
      "       104.,  59., 246., 297., 258., 229., 275., 281., 179., 200., 200.,\n",
      "       173., 180.,  84., 121., 161.,  99., 109., 115., 268., 274., 158.,\n",
      "       107.,  83., 103., 272.,  85., 280., 336., 281., 118., 317., 235.,\n",
      "        60., 174., 259., 178., 128.,  96., 126., 288.,  88., 292.,  71.,\n",
      "       197., 186.,  25.,  84.,  96., 195.,  53., 217., 172., 131., 214.,\n",
      "        59.,  70., 220., 268., 152.,  47.,  74., 295., 101., 151., 127.,\n",
      "       237., 225.,  81., 151., 107.,  64., 138., 185., 265., 101., 137.,\n",
      "       143., 141.,  79., 292., 178.,  91., 116.,  86., 122.,  72., 129.,\n",
      "       142.,  90., 158.,  39., 196., 222., 277.,  99., 196., 202., 155.,\n",
      "        77., 191.,  70.,  73.,  49.,  65., 263., 248., 296., 214., 185.,\n",
      "        78.,  93., 252., 150.,  77., 208.,  77., 108., 160.,  53., 220.,\n",
      "       154., 259.,  90., 246., 124.,  67.,  72., 257., 262., 275., 177.,\n",
      "        71.,  47., 187., 125.,  78.,  51., 258., 215., 303., 243.,  91.,\n",
      "       150., 310., 153., 346.,  63.,  89.,  50.,  39., 103., 308., 116.,\n",
      "       145.,  74.,  45., 115., 264.,  87., 202., 127., 182., 241.,  66.,\n",
      "        94., 283.,  64., 102., 200., 265.,  94., 230., 181., 156., 233.,\n",
      "        60., 219.,  80.,  68., 332., 248.,  84., 200.,  55.,  85.,  89.,\n",
      "        31., 129.,  83., 275.,  65., 198., 236., 253., 124.,  44., 172.,\n",
      "       114., 142., 109., 180., 144., 163., 147.,  97., 220., 190., 109.,\n",
      "       191., 122., 230., 242., 248., 249., 192., 131., 237.,  78., 135.,\n",
      "       244., 199., 270., 164.,  72.,  96., 306.,  91., 214.,  95., 216.,\n",
      "       263., 178., 113., 200., 139., 139.,  88., 148.,  88., 243.,  71.,\n",
      "        77., 109., 272.,  60.,  54., 221.,  90., 311., 281., 182., 321.,\n",
      "        58., 262., 206., 233., 242., 123., 167.,  63., 197.,  71., 168.,\n",
      "       140., 217., 121., 235., 245.,  40.,  52., 104., 132.,  88.,  69.,\n",
      "       219.,  72., 201., 110.,  51., 277.,  63., 118.,  69., 273., 258.,\n",
      "        43., 198., 242., 232., 175.,  93., 168., 275., 293., 281.,  72.,\n",
      "       140., 189., 181., 209., 136., 261., 113., 131., 174., 257.,  55.,\n",
      "        84.,  42., 146., 212., 233.,  91., 111., 152., 120.,  67., 310.,\n",
      "        94., 183.,  66., 173.,  72.,  49.,  64.,  48., 178., 104., 132.,\n",
      "       220.,  57.]), 'frame': None, 'DESCR': '.. _diabetes_dataset:\\n\\nDiabetes dataset\\n----------------\\n\\nTen baseline variables, age, sex, body mass index, average blood\\npressure, and six blood serum measurements were obtained for each of n =\\n442 diabetes patients, as well as the response of interest, a\\nquantitative measure of disease progression one year after baseline.\\n\\n**Data Set Characteristics:**\\n\\n  :Number of Instances: 442\\n\\n  :Number of Attributes: First 10 columns are numeric predictive values\\n\\n  :Target: Column 11 is a quantitative measure of disease progression one year after baseline\\n\\n  :Attribute Information:\\n      - age     age in years\\n      - sex\\n      - bmi     body mass index\\n      - bp      average blood pressure\\n      - s1      tc, total serum cholesterol\\n      - s2      ldl, low-density lipoproteins\\n      - s3      hdl, high-density lipoproteins\\n      - s4      tch, total cholesterol / HDL\\n      - s5      ltg, possibly log of serum triglycerides level\\n      - s6      glu, blood sugar level\\n\\nNote: Each of these 10 feature variables have been mean centered and scaled by the standard deviation times the square root of `n_samples` (i.e. the sum of squares of each column totals 1).\\n\\nSource URL:\\nhttps://www4.stat.ncsu.edu/~boos/var.select/diabetes.html\\n\\nFor more information see:\\nBradley Efron, Trevor Hastie, Iain Johnstone and Robert Tibshirani (2004) \"Least Angle Regression,\" Annals of Statistics (with discussion), 407-499.\\n(https://web.stanford.edu/~hastie/Papers/LARS/LeastAngle_2002.pdf)\\n', 'feature_names': ['age', 'sex', 'bmi', 'bp', 's1', 's2', 's3', 's4', 's5', 's6'], 'data_filename': 'diabetes_data_raw.csv.gz', 'target_filename': 'diabetes_target.csv.gz', 'data_module': 'sklearn.datasets.data'}\n",
      "Feature names: ['age', 'sex', 'bmi', 'bp', 's1', 's2', 's3', 's4', 's5', 's6']\n"
     ]
    }
   ],
   "source": [
    "# Load the dataset\n",
    "diabetes = load_diabetes()\n",
    "print(diabetes)\n",
    "print(\"Feature names:\",diabetes.feature_names)"
   ]
  },
  {
   "cell_type": "markdown",
   "metadata": {},
   "source": [
    "We now create a model and fit the model using the training data. For this, we first divide the dataset into two sets: the training set and the test set.\\\n",
    "Then, we fit the model using the training set."
   ]
  },
  {
   "cell_type": "code",
   "execution_count": 31,
   "metadata": {},
   "outputs": [],
   "source": [
    "# Seperate the data into train and the test sets\n",
    "X_train, X_test, y_train, y_test = train_test_split(diabetes.data, diabetes.target, test_size=0.2, random_state=3817)\n",
    "\n",
    "# Set up the model\n",
    "model = LinearRegression()\n",
    "\n",
    "# Fit the model\n",
    "model.fit(X_train, y_train)\n",
    "\n",
    "# Make predictions on the test set\n",
    "y_pred = model.predict(X_test)"
   ]
  },
  {
   "cell_type": "markdown",
   "metadata": {},
   "source": [
    "We now evaluate the performance of the model. One of the ways to do this is to calculate the $R^2$ score, available by `score` function.\\\n",
    "It calculates\n",
    "\n",
    "$$\n",
    "\\begin{align}\n",
    "\\left( 1 - \\frac{u}{v} \\right).\n",
    "\\end{align}\n",
    "$$\n",
    "\n",
    "Here $u$ is the residual sum of squares $\\sum_{i=1}^n (y_i - \\hat y_i)^2$ and $v$ is the total sum of squares $\\sum_{i=1}^n (y_i - \\bar y_i)^2$  where $n$ is the number of observations in the test set.\\\n",
    "The highest $R^2$ score we can possibly have is 1.0, where $y_i=\\hat y_i$ for all $i=1,\\cdots,n$, and it can even have a negative value when the model is fitted very poorly."
   ]
  },
  {
   "cell_type": "code",
   "execution_count": 32,
   "metadata": {},
   "outputs": [
    {
     "data": {
      "text/plain": [
       "0.4400272323988693"
      ]
     },
     "execution_count": 32,
     "metadata": {},
     "output_type": "execute_result"
    }
   ],
   "source": [
    "model.score(X_test, y_test)"
   ]
  },
  {
   "cell_type": "markdown",
   "metadata": {},
   "source": [
    "Below we print the model intercept $\\beta_0$ and the coefficients $\\beta_1,\\cdots, \\beta_{10}$, each corresponding to the output of `diabetes.feature_names`."
   ]
  },
  {
   "cell_type": "code",
   "execution_count": 5,
   "metadata": {},
   "outputs": [
    {
     "name": "stdout",
     "output_type": "stream",
     "text": [
      "151.47508848392727 [ -28.68952965 -220.49842238  503.36891715  362.83864258 -795.34054576\n",
      "  365.92156747  173.95627188  308.36970656  716.57346986   78.01470239]\n"
     ]
    }
   ],
   "source": [
    "print(model.intercept_, model.coef_)"
   ]
  },
  {
   "cell_type": "markdown",
   "metadata": {},
   "source": [
    "We can visualise the performance of the model as the plot below.\\\n",
    "The $x$-axis is for `y_text` and the $y$-axis is for `y_pred`. The more accurate our predictions are, the closer the dots are to the orange line."
   ]
  },
  {
   "cell_type": "code",
   "execution_count": 33,
   "metadata": {},
   "outputs": [
    {
     "data": {
      "image/png": "[encoded data removed]",
      "text/plain": [
       "<Figure size 640x480 with 1 Axes>"
      ]
     },
     "metadata": {},
     "output_type": "display_data"
    }
   ],
   "source": [
    "x = np.linspace(0, 350, 100)\n",
    "y = x\n",
    "\n",
    "fig = plt.figure()\n",
    "plt.plot(y_test, y_pred, '.')\n",
    "plt.plot(x, y, label='Linear')\n",
    "plt.legend()\n",
    "plt.show()"
   ]
  },
  {
   "cell_type": "markdown",
   "metadata": {},
   "source": [
    "### Extrapolation\n",
    "\n",
    "We need to be careful when predicting the response of to an input that lies outside of the range of the values in the predictor variables used to fit the model. "
   ]
  },
  {
   "cell_type": "markdown",
   "metadata": {},
   "source": [
    "### Polynomial Regression"
   ]
  },
  {
   "cell_type": "markdown",
   "metadata": {},
   "source": [
    "Sometimes the relationship between our independent variables and the target variable is not linear, but polynomial. In this case, linear regression perform rather poorly, and we propose polynomial regression models, where our design matrix $\\mathbf X$ is defined as:\n",
    "\n",
    "$$\n",
    "\\begin{align}\n",
    "\\mathbf X=\n",
    "\\begin{bmatrix}\n",
    "1 & x_{1,1} & x_{1,1}^2 & \\cdots & x_{1,1}^p & \\cdots & x_{1,m}^p \n",
    "\\\\\n",
    "1 & x_{2,1} & x_{2,1}^2 & \\cdots & x_{2,1}^p & \\cdots & x_{2,m}^p \n",
    "\\\\\n",
    "\\vdots & \\vdots & \\vdots & \\ddots & \\vdots & \\ddots & \\vdots \n",
    "\\\\\n",
    "1 & x_{n,1} & x_{n,1}^2 & \\cdots & x_{n,1}^p & \\cdots & x_{n,m}^p \n",
    "\\end{bmatrix}\n",
    "\\end{align}\n",
    "$$\n",
    "\n",
    "for some degree $p$. We use `sklearn.preprocessing.PolynomialFeatures` to extend the degrees of our features."
   ]
  },
  {
   "cell_type": "code",
   "execution_count": 27,
   "metadata": {},
   "outputs": [],
   "source": [
    "n = 100 # 100 data points\n",
    "X = 6 * np.random.rand(n,1)-4\n",
    "poly_features = PolynomialFeatures(degree=2) # decide the maximal degree of the polynomial feature\n",
    "X_poly = poly_features.fit_transform(X) # convert the original feature to polynomial feature\n",
    "y = X**2 + 2 * X + 3 + np.random.rand(n,1)"
   ]
  },
  {
   "cell_type": "code",
   "execution_count": 28,
   "metadata": {},
   "outputs": [
    {
     "data": {
      "image/png": "[encoded data removed]",
      "text/plain": [
       "<Figure size 640x480 with 1 Axes>"
      ]
     },
     "metadata": {},
     "output_type": "display_data"
    }
   ],
   "source": [
    "linear_model = LinearRegression()\n",
    "polynomial_model = LinearRegression()\n",
    "\n",
    "linear_model.fit(X, y)\n",
    "polynomial_model.fit(X_poly, y)\n",
    "\n",
    "X_new = np.sort(X, axis=0)\n",
    "X_new_poly = poly_features.fit_transform(X_new)\n",
    "y_pred = linear_model.predict(X_new)\n",
    "y_pred_poly = polynomial_model.predict(X_new_poly)\n",
    "\n",
    "fig = plt.figure()\n",
    "plt.plot(X, y, '.')\n",
    "plt.plot(X_new, y_pred, label='Linear')\n",
    "#linear.set_label(\"Linear\")\n",
    "plt.plot(X_new, y_pred_poly, label='Polynomial')\n",
    "#quadratic.set_label(\"Quadratic\")\n",
    "plt.legend()\n",
    "plt.show()\n"
   ]
  }
 ],
 "metadata": {
  "kernelspec": {
   "display_name": "Python 3",
   "language": "python",
   "name": "python3"
  },
  "language_info": {
   "codemirror_mode": {
    "name": "ipython",
    "version": 3
   },
   "file_extension": ".py",
   "mimetype": "text/x-python",
   "name": "python",
   "nbconvert_exporter": "python",
   "pygments_lexer": "ipython3",
   "version": "3.9.6"
  }
 },
 "nbformat": 4,
 "nbformat_minor": 2
}
