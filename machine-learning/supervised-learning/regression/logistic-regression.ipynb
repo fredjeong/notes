{
 "cells": [
  {
   "cell_type": "markdown",
   "metadata": {},
   "source": [
    "# Logistic Regression"
   ]
  },
  {
   "cell_type": "markdown",
   "metadata": {},
   "source": [
    "While linear regression predicts continuous outcomes, logistic regression is used when the outcome is categorical, often binary. It models the probability between 0 and 1 that a given input belongs to a particular category. This probability is then used to classify the input into one of the two categories. This sort of tasks is called classification. \n",
    "\n",
    "Consider a classification problem where we are given samples $(\\boldsymbol x_i, y_i)_{i=1}^n$ for $\\boldsymbol x_i=(1, \\boldsymbol x_{i,1}, \\cdots, \\boldsymbol x_{i,m})$ and $y_i\\in\\{0,1\\}$ (binary classification). In this setting, we cannot naively apply linear regression as the outcomes are not continuously distributed. It is hard to interpret the regression coefficients $\\boldsymbol \\beta$."
   ]
  },
  {
   "cell_type": "markdown",
   "metadata": {},
   "source": [
    "### The Logistic Function"
   ]
  },
  {
   "cell_type": "markdown",
   "metadata": {},
   "source": [
    "Instead of directly modelling $Y$ as a function of $X$ directly, we model the probability of $Y$ being equal to 1 or 0. Let $\\boldsymbol x_i$ denote the conditional probability of having the output 1 given an input $\\boldsymbol x_i$, i.e. $p(\\boldsymbol x_i) = P(y_i=1\\mid \\boldsymbol x_i)$. We express the logistic model as:\n",
    "\n",
    "$$\n",
    "\\begin{align}\n",
    "p(\\boldsymbol x_i) = \\frac{\\exp(\\boldsymbol\\beta^T \\boldsymbol x_i^)}{1+\\exp(\\boldsymbol\\beta^T\\boldsymbol x_i^T)}\n",
    "\\end{align}\n",
    "$$\n",
    "\n",
    "where the function on the right-hand side is called the sigmoid function of $\\boldsymbol\\beta^T\\boldsymbol x_i$, satisfying the following properties:\n",
    "- $f(x)$ has horizontal asymptotes as $x\\to\\pm\\infty$.\n",
    "- $f(x)$ has a non-negative derivative for all $x\\in\\mathbb R$.\n",
    "- $f(x)$ has exactly one inflection point.\n",
    "- $f(x)$ is monotonic.\n",
    "\n",
    "We can arrange the above equation and obtain\n",
    "\n",
    "$$\n",
    "\\begin{align}\n",
    "\\log\\left( \\frac{p(\\boldsymbol x_i)}{1-p(\\boldsymbol x_i)} \\right)=\\boldsymbol \\beta^T\\boldsymbol x_i\n",
    "\\end{align}\n",
    "$$\n",
    "\n",
    "We then have\n",
    "\n",
    "$$\n",
    "\\begin{align}\n",
    "\\frac{p(\\boldsymbol x_i)}{1-p(\\boldsymbol x_i)}=\\exp(\\boldsymbol \\beta^T\\boldsymbol x_i)=\\exp(\\beta_0+\\beta_1 x_{i,1}+\\cdots+\\beta_m x_{i,m})\n",
    "\\\\\n",
    "\\implies \\log\\left( \\frac{p(\\boldsymbol x_i)}{1-p(\\boldsymbol x_i)} \\right)=\\boldsymbol \\beta^T\\boldsymbol x_i = \\beta_0 + \\beta_1 x_{i,1} + \\cdots + \\beta_m x_{i,m}\n",
    "\\end{align}\n",
    "$$\n",
    "\n",
    "meaning that increasing $x_{i,j}$ by one unit, while keeping all other predictors fixed, changes the log odds by $\\beta_j$."
   ]
  },
  {
   "cell_type": "markdown",
   "metadata": {},
   "source": [
    "### Decision Boundary"
   ]
  },
  {
   "cell_type": "markdown",
   "metadata": {},
   "source": [
    "Suppose we estimated $\\boldsymbol \\beta$ by $\\boldsymbol{\\hat\\beta}$. We then have\n",
    "\n",
    "$$\n",
    "\\begin{align}\n",
    "\\hat p(\\boldsymbol x_i) = \\frac{\\exp(\\hat{\\boldsymbol \\beta}^T\\boldsymbol x_i)}{1+\\exp(\\hat{\\boldsymbol \\beta}^T\\boldsymbol x_i)}\n",
    "\\end{align}\n",
    "$$\n",
    "\n",
    "and then we predict the class $\\hat y_i$ as the following:\n",
    "\n",
    "$$\n",
    "\\begin{align}\n",
    "    \\hat y_i = \n",
    "    \\begin{cases} \n",
    "        0 & \\text{if } \\hat p(\\boldsymbol x_i)\\leq 0.5 \\\\\n",
    "        1 & \\text{if } \\hat p(\\boldsymbol x_i) > 0.5\n",
    "    \\end{cases}\n",
    "\\end{align}\n",
    "$$\n",
    "\n",
    "or equivalently\n",
    "\n",
    "$$\n",
    "\\begin{align}\n",
    "    \\hat y_i = \n",
    "    \\begin{cases} \n",
    "        0 & \\text{if } \\hat{\\boldsymbol\\beta}^T\\boldsymbol x_i \\leq 0 \\\\\n",
    "        1 & \\text{if } \\hat{\\boldsymbol\\beta}^T\\boldsymbol x_i > 0\n",
    "    \\end{cases}\n",
    "\\end{align}\n",
    "$$"
   ]
  },
  {
   "cell_type": "markdown",
   "metadata": {},
   "source": [
    "### Multinomial Regression"
   ]
  },
  {
   "cell_type": "markdown",
   "metadata": {},
   "source": [
    "When we have more than two classes, we simply extend to the multinomial model. Given $K$ classes for the outcome $y_i$, we have\n",
    "\n",
    "$$\n",
    "\\begin{gather}\n",
    "\\hat p_1(\\boldsymbol x_i) = P(y_i = 1\\mid \\boldsymbol x_i) = \\frac{\\exp(\\boldsymbol \\beta_1^T \\boldsymbol x_i)}{1 + \\sum_{j=1}^{K-1}\\exp(\\boldsymbol \\beta_j^T\\boldsymbol x_i)} \\\\\n",
    "\\hat p_2(\\boldsymbol x_i) = P(y_i = 2\\mid \\boldsymbol x_i) = \\frac{\\exp(\\boldsymbol \\beta_2^T \\boldsymbol x_i)}{1 + \\sum_{j=1}^{K-1}\\exp(\\boldsymbol \\beta_j^T\\boldsymbol x_i)} \\\\\n",
    "\\vdots \\\\\n",
    "\\hat p_{K-1}(\\boldsymbol x_i) = P(y_i = K-1 \\mid \\boldsymbol x_i) = \\frac{\\exp(\\boldsymbol \\beta_{K-1}^T \\boldsymbol x_i)}{1 + \\sum_{j=1}^{K-1}\\exp(\\boldsymbol \\beta_j^T\\boldsymbol x_i)} \\\\\n",
    "\\hat p_K(\\boldsymbol x_i) = P(y_i = K\\mid \\boldsymbol x_i) = \\frac{1}{1 + \\sum_{j=1}^{K-1}\\exp(\\boldsymbol \\beta_j^T\\boldsymbol x_i)}\n",
    "\\end{gather}\n",
    "$$\n",
    "\n",
    "and we predict the class according to\n",
    "\n",
    "$$\n",
    "\\begin{align}\n",
    "\\hat y_i = \\arg\\max_j \\hat p_j(\\boldsymbol x_i)\n",
    "\\end{align}\n",
    "$$"
   ]
  },
  {
   "cell_type": "markdown",
   "metadata": {},
   "source": []
  },
  {
   "cell_type": "code",
   "execution_count": 6,
   "metadata": {},
   "outputs": [],
   "source": [
    "import numpy as np\n",
    "import pandas as pd\n",
    "import matplotlib.pyplot as plt\n",
    "import seaborn as sns\n",
    "from sklearn.linear_model import LogisticRegression\n",
    "from sklearn import metrics\n",
    "from sklearn.datasets import load_breast_cancer\n",
    "from sklearn.model_selection import train_test_split"
   ]
  },
  {
   "cell_type": "code",
   "execution_count": 8,
   "metadata": {},
   "outputs": [
    {
     "name": "stdout",
     "output_type": "stream",
     "text": [
      "Feature names: ['mean radius' 'mean texture' 'mean perimeter' 'mean area'\n",
      " 'mean smoothness' 'mean compactness' 'mean concavity'\n",
      " 'mean concave points' 'mean symmetry' 'mean fractal dimension'\n",
      " 'radius error' 'texture error' 'perimeter error' 'area error'\n",
      " 'smoothness error' 'compactness error' 'concavity error'\n",
      " 'concave points error' 'symmetry error' 'fractal dimension error'\n",
      " 'worst radius' 'worst texture' 'worst perimeter' 'worst area'\n",
      " 'worst smoothness' 'worst compactness' 'worst concavity'\n",
      " 'worst concave points' 'worst symmetry' 'worst fractal dimension']\n",
      "Target names: ['malignant' 'benign']\n"
     ]
    }
   ],
   "source": [
    "# Import the dataset\n",
    "\n",
    "breast_cancer = load_breast_cancer()\n",
    "\n",
    "print(f\"Feature names: {breast_cancer.feature_names}\")\n",
    "print(f\"Target names: {breast_cancer.target_names}\")"
   ]
  },
  {
   "cell_type": "code",
   "execution_count": 9,
   "metadata": {},
   "outputs": [],
   "source": [
    "# Divide the data into the training and the test set\n",
    "\n",
    "X = breast_cancer.data\n",
    "y = breast_cancer.target\n",
    "\n",
    "X_train, X_test, y_train, y_test = train_test_split(X, y, test_size=0.2, random_state=3817)"
   ]
  },
  {
   "cell_type": "code",
   "execution_count": 10,
   "metadata": {},
   "outputs": [
    {
     "name": "stderr",
     "output_type": "stream",
     "text": [
      "/Users/fredjeong/Library/Python/3.9/lib/python/site-packages/sklearn/linear_model/_logistic.py:460: ConvergenceWarning: lbfgs failed to converge (status=1):\n",
      "STOP: TOTAL NO. of ITERATIONS REACHED LIMIT.\n",
      "\n",
      "Increase the number of iterations (max_iter) or scale the data as shown in:\n",
      "    https://scikit-learn.org/stable/modules/preprocessing.html\n",
      "Please also refer to the documentation for alternative solver options:\n",
      "    https://scikit-learn.org/stable/modules/linear_model.html#logistic-regression\n",
      "  n_iter_i = _check_optimize_result(\n"
     ]
    }
   ],
   "source": [
    "# Define and fit the model\n",
    "\n",
    "model = LogisticRegression()\n",
    "model.fit(X_train, y_train)\n",
    "y_pred = model.predict(X_test)"
   ]
  },
  {
   "cell_type": "code",
   "execution_count": 13,
   "metadata": {},
   "outputs": [
    {
     "name": "stdout",
     "output_type": "stream",
     "text": [
      "Accuracy: 0.9736842105263158\n"
     ]
    },
    {
     "data": {
      "text/plain": [
       "<Axes: >"
      ]
     },
     "execution_count": 13,
     "metadata": {},
     "output_type": "execute_result"
    },
    {
     "data": {
      "image/png": "[encoded data removed]",
      "text/plain": [
       "<Figure size 640x480 with 2 Axes>"
      ]
     },
     "metadata": {},
     "output_type": "display_data"
    }
   ],
   "source": [
    "# Evaluate the model\n",
    "\n",
    "print(f\"Accuracy: {model.score(X_test, y_test)}\")\n",
    "confusion_matrix = metrics.confusion_matrix(y_test, y_pred, labels=[0,1])\n",
    "sns.heatmap(confusion_matrix, annot=True)\n"
   ]
  },
  {
   "cell_type": "code",
   "execution_count": null,
   "metadata": {},
   "outputs": [],
   "source": []
  }
 ],
 "metadata": {
  "kernelspec": {
   "display_name": "Python 3",
   "language": "python",
   "name": "python3"
  },
  "language_info": {
   "codemirror_mode": {
    "name": "ipython",
    "version": 3
   },
   "file_extension": ".py",
   "mimetype": "text/x-python",
   "name": "python",
   "nbconvert_exporter": "python",
   "pygments_lexer": "ipython3",
   "version": "3.9.6"
  }
 },
 "nbformat": 4,
 "nbformat_minor": 2
}
