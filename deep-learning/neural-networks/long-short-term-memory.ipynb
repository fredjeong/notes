{
 "cells": [
  {
   "cell_type": "markdown",
   "metadata": {},
   "source": [
    "# Long Short Term Memory (LSTM)"
   ]
  },
  {
   "cell_type": "markdown",
   "metadata": {},
   "source": [
    "Recurrent neural networks can in principle use information from events that occurred many time steps earlier to make predictions at the current time step. However, in practice RNNs struggle to make use of long-term dependencies in the data.\n",
    "\n",
    "Recall the equation describing the backpropagation of errors in an MLP:\n",
    "\n",
    "$$\n",
    "\\begin{align}\n",
    "\\delta^{(k)}=\\sigma'(\\boldsymbol a^{(k)})(\\mathbf W^{(k)})^T\\delta^{(k+1)}\n",
    "\\end{align}\n",
    "$$\n",
    "\n",
    "for $k=1,\\cdots,L$, which indexes the hidden layers, and the corresponding equation for the backpropagation through time (BPTT) algorithm:\n",
    "\n",
    "$$\n",
    "\\begin{align}\n",
    "\\delta_{t-1}^{(k)} = \\sigma'(\\boldsymbol a_{t-1}^{(k)})(\\mathbf W_{hh}^{(k)})^T\\delta_t^{(k)}\n",
    "\\end{align}\n",
    "$$\n",
    "\n",
    "for $t=1,\\cdots,T$. Here, $k$ indexes the stacked recurrent layers and $t$ indexes the time steps. The above equations indicate a fundamental problem of training neural networks: the vanishing gradients problem. \n",
    "\n",
    "Gradients can explode or vanish with a large number of layers, or a large number of time steps. This problem is particularly bad int he case of RNNs, where the length of sequences can be long.\n",
    "\n",
    "The Long Short Term Memory (LSTM) network mitigates the effect of vanishing gradients and allow the recurrent neural network to remember things for a long time.\n",
    "\n",
    "The LSTM has inputs $\\boldsymbol x_t\\in\\mathbb R^{n_{k-1}}$ and $\\boldsymbol h_{t-1}\\in\\mathbb R^{n_k}$ just as regular RNNs. However, it also includes an internal cell state $\\boldsymbol c_t\\in\\mathbb R^{n_k}$ that allows the unit to store and retain information.\n"
   ]
  },
  {
   "cell_type": "markdown",
   "metadata": {},
   "source": [
    "There is no neural network lyaer that operates directly on the cell state. This means that information is more freely able to travel across time steps in the cell state.\n",
    "\n",
    "The role of the hidden state is to manage the information flow in and out of the cell state, according to the signals provided in the inputs $\\boldsymbol h_{t-1}$ and $\\boldsymbol x_t$."
   ]
  },
  {
   "cell_type": "markdown",
   "metadata": {},
   "source": [
    "### The forget gate"
   ]
  },
  {
   "cell_type": "markdown",
   "metadata": {},
   "source": [
    "![lstm-forget-gate](../../figures/lstm-forget-gate.png)\n",
    "\n",
    "The forget gate determines what information should be erased from the cell state. The information is controlled by signals in the inputs $\\boldsymbol h_{t-1}$ and $\\boldsymbol x_t$ according to the following equation:\n",
    "\n",
    "$$\n",
    "\\begin{align}\n",
    "\\boldsymbol f_t = \\sigma\\left( \\mathbf W_f \\cdot [\\boldsymbol x_t, \\boldsymbol h_{t-1}] + \\boldsymbol b_f \\right)\n",
    "\\end{align}\n",
    "$$\n",
    "\n",
    "where $[\\boldsymbol x_t, \\boldsymbol h_{t-1}] \\in \\mathbb R^{n_k\\times (n_k+n_{k-1})}$ is the concatenation of $\\boldsymbol x_t$ and $\\boldsymbol h_{t-1}, \\mathbf W_f\\in\\mathbb R^{n_k\\times (n_k +n_{k-1})}$, $\\boldsymbol b_f\\in\\mathbb R^{n_k}$ and $\\sigma$ is the sigmoid activation function. Note that entries of $\\boldsymbol f_t$ will be close to one for large positive pre-activation values, and close to zero for large negative pre-activation values. The cell state is then updated\n",
    "\n",
    "$$\n",
    "\\begin{align}\n",
    "\\boldsymbol c_t \\leftarrow \\boldsymbol f_t \\odot \\boldsymbol c_{t-1}\n",
    "\\end{align}\n",
    "$$\n",
    "\n",
    "where $\\odot$ is the Hadamard (element-wise) product, so that selected entries of the cell state $\\boldsymbol c_{t-1}$ are erased, while others are retained."
   ]
  },
  {
   "cell_type": "markdown",
   "metadata": {},
   "source": [
    "### The input and content gates"
   ]
  },
  {
   "cell_type": "markdown",
   "metadata": {},
   "source": [
    "![lstm-input-content-gate](../../figures/lstm-input-content-gate.png)\n",
    "\n",
    "The input gate determines when information should be written into the cell state. The content gate contains the information to be written.\n",
    "\n",
    "The input and content gates are a combination of sigmoid and tanh activation gates:\n",
    "\n",
    "$$\n",
    "\\begin{align}\n",
    "\\boldsymbol i_t = \\sigma\\left( \\mathbf W_i \\cdot [\\boldsymbol x_t, \\boldsymbol h_{t-1}] + \\boldsymbol b_i \\right)\n",
    "\\\\\n",
    "\\tilde {\\boldsymbol c}_t = \\tanh (\\mathbf W_c\\cdot [\\boldsymbol x_t, \\boldsymbol h_{t-1}] + \\boldsymbol b_c)\n",
    "\\end{align}\n",
    "$$\n",
    "\n",
    "where $\\mathbf W_i, \\mathbf W_c \\in \\mathbb R^{n_k\\times(n_k+n_{k-1})}$ and $\\boldsymbol b_i,\\boldsymbol c\\in\\mathbb R^{n_k}$. In a similar way to the forget gate, the input gate $\\boldsymbol i_t$, is used to 'zero out' selected entries in the content signal $\\tilde{\\boldsymbol c}_t$. The content entries that are allowed through the gate are then added into the cell state:\n",
    "\n",
    "$$\n",
    "\\begin{align}\n",
    "\\boldsymbol c_t \\leftarrow \\boldsymbol c_t + \\boldsymbol i_t \\odot \\tilde{\\boldsymbol c}_t\n",
    "\\end{align}\n",
    "$$"
   ]
  },
  {
   "cell_type": "markdown",
   "metadata": {},
   "source": [
    "### The output gate"
   ]
  },
  {
   "cell_type": "markdown",
   "metadata": {},
   "source": [
    "![lstm-output-gate](../../figures/lstm-output-gate.png)\n",
    "\n",
    "Finally, the output gate decides which cell state values should be output in the hidden state.\n",
    "\n",
    "The output gate is another sigmoid gate that releases information from the cell state after passing through a tanh activation:\n",
    "\n",
    "$$\n",
    "\\begin{align}\n",
    "\\boldsymbol o_t = \\sigma\\left( \\mathbf W_o \\cdot [\\boldsymbol x_t, \\boldsymbol h_{t-1}] + \\boldsymbol b_o \\right)\n",
    "\\boldsymbol h_t = \\boldsymbol o_t \\odot \\tanh(\\boldsymbol c_t)\n",
    "\\end{align}\n",
    "$$"
   ]
  },
  {
   "cell_type": "code",
   "execution_count": 1,
   "metadata": {},
   "outputs": [
    {
     "name": "stdout",
     "output_type": "stream",
     "text": [
      "\u001b[33mWARNING: Skipping /Users/fredjeong/anaconda3/lib/python3.11/site-packages/tensorflow_estimator-2.12.0.dist-info due to invalid metadata entry 'name'\u001b[0m\u001b[33m\n",
      "\u001b[0mCollecting torchinfo\n",
      "  Downloading torchinfo-1.8.0-py3-none-any.whl.metadata (21 kB)\n",
      "Downloading torchinfo-1.8.0-py3-none-any.whl (23 kB)\n",
      "\u001b[33mWARNING: Skipping /Users/fredjeong/anaconda3/lib/python3.11/site-packages/tensorflow_estimator-2.12.0.dist-info due to invalid metadata entry 'name'\u001b[0m\u001b[33m\n",
      "\u001b[0mInstalling collected packages: torchinfo\n",
      "Successfully installed torchinfo-1.8.0\n",
      "\n",
      "\u001b[1m[\u001b[0m\u001b[34;49mnotice\u001b[0m\u001b[1;39;49m]\u001b[0m\u001b[39;49m A new release of pip is available: \u001b[0m\u001b[31;49m24.0\u001b[0m\u001b[39;49m -> \u001b[0m\u001b[32;49m24.2\u001b[0m\n",
      "\u001b[1m[\u001b[0m\u001b[34;49mnotice\u001b[0m\u001b[1;39;49m]\u001b[0m\u001b[39;49m To update, run: \u001b[0m\u001b[32;49mpip install --upgrade pip\u001b[0m\n"
     ]
    }
   ],
   "source": [
    "! pip3 install torchinfo"
   ]
  },
  {
   "cell_type": "code",
   "execution_count": 34,
   "metadata": {},
   "outputs": [],
   "source": [
    "import numpy as np\n",
    "import pandas as pd\n",
    "import matplotlib.pyplot as plt\n",
    "from sklearn.model_selection import train_test_split\n",
    "import torch\n",
    "import torch.nn as nn\n",
    "from torch import optim\n",
    "from torchinfo import summary\n",
    "import re\n",
    "from collections import defaultdict"
   ]
  },
  {
   "cell_type": "code",
   "execution_count": 19,
   "metadata": {},
   "outputs": [],
   "source": [
    "device = torch.device(\"mps\" if torch.backends.mps.is_available() else \"cpu\")"
   ]
  },
  {
   "cell_type": "code",
   "execution_count": 3,
   "metadata": {},
   "outputs": [],
   "source": [
    "# Load the data\n",
    "\n",
    "df = pd.read_csv(\"../../datasets/tweets/tweets.csv\")\n",
    "df = df[['text', 'airline_sentiment', 'airline_sentiment_confidence']]"
   ]
  },
  {
   "cell_type": "code",
   "execution_count": 4,
   "metadata": {},
   "outputs": [
    {
     "data": {
      "text/html": [
       "<div>\n",
       "<style scoped>\n",
       "    .dataframe tbody tr th:only-of-type {\n",
       "        vertical-align: middle;\n",
       "    }\n",
       "\n",
       "    .dataframe tbody tr th {\n",
       "        vertical-align: top;\n",
       "    }\n",
       "\n",
       "    .dataframe thead th {\n",
       "        text-align: right;\n",
       "    }\n",
       "</style>\n",
       "<table border=\"1\" class=\"dataframe\">\n",
       "  <thead>\n",
       "    <tr style=\"text-align: right;\">\n",
       "      <th></th>\n",
       "      <th>text</th>\n",
       "      <th>airline_sentiment</th>\n",
       "      <th>airline_sentiment_confidence</th>\n",
       "    </tr>\n",
       "  </thead>\n",
       "  <tbody>\n",
       "    <tr>\n",
       "      <th>0</th>\n",
       "      <td>@VirginAmerica What @dhepburn said.</td>\n",
       "      <td>neutral</td>\n",
       "      <td>1.0000</td>\n",
       "    </tr>\n",
       "    <tr>\n",
       "      <th>1</th>\n",
       "      <td>@VirginAmerica plus you've added commercials t...</td>\n",
       "      <td>positive</td>\n",
       "      <td>0.3486</td>\n",
       "    </tr>\n",
       "    <tr>\n",
       "      <th>2</th>\n",
       "      <td>@VirginAmerica I didn't today... Must mean I n...</td>\n",
       "      <td>neutral</td>\n",
       "      <td>0.6837</td>\n",
       "    </tr>\n",
       "    <tr>\n",
       "      <th>3</th>\n",
       "      <td>@VirginAmerica it's really aggressive to blast...</td>\n",
       "      <td>negative</td>\n",
       "      <td>1.0000</td>\n",
       "    </tr>\n",
       "    <tr>\n",
       "      <th>4</th>\n",
       "      <td>@VirginAmerica and it's a really big bad thing...</td>\n",
       "      <td>negative</td>\n",
       "      <td>1.0000</td>\n",
       "    </tr>\n",
       "  </tbody>\n",
       "</table>\n",
       "</div>"
      ],
      "text/plain": [
       "                                                text airline_sentiment  \\\n",
       "0                @VirginAmerica What @dhepburn said.           neutral   \n",
       "1  @VirginAmerica plus you've added commercials t...          positive   \n",
       "2  @VirginAmerica I didn't today... Must mean I n...           neutral   \n",
       "3  @VirginAmerica it's really aggressive to blast...          negative   \n",
       "4  @VirginAmerica and it's a really big bad thing...          negative   \n",
       "\n",
       "   airline_sentiment_confidence  \n",
       "0                        1.0000  \n",
       "1                        0.3486  \n",
       "2                        0.6837  \n",
       "3                        1.0000  \n",
       "4                        1.0000  "
      ]
     },
     "execution_count": 4,
     "metadata": {},
     "output_type": "execute_result"
    }
   ],
   "source": [
    "df.head()"
   ]
  },
  {
   "cell_type": "code",
   "execution_count": 5,
   "metadata": {},
   "outputs": [],
   "source": [
    "# Split the data into training, validation and test sets\n",
    "\n",
    "train_df, val_df = train_test_split(df, test_size = 0.4)\n",
    "val_df, test_df = train_test_split(val_df, test_size = 0.5)"
   ]
  },
  {
   "cell_type": "code",
   "execution_count": 6,
   "metadata": {},
   "outputs": [],
   "source": [
    "# Save the splits to csv files\n",
    "\n",
    "train_df.to_csv(\"../../datasets/tweets/train.csv\", index=False)\n",
    "val_df.to_csv(\"../../datasets/tweets/val.csv\", index=False)\n",
    "test_df.to_csv(\"../../datasets/tweets/test.csv\", index=False)"
   ]
  },
  {
   "cell_type": "code",
   "execution_count": 7,
   "metadata": {},
   "outputs": [
    {
     "data": {
      "image/png": "[encoded data removed]",
      "text/plain": [
       "<Figure size 640x480 with 1 Axes>"
      ]
     },
     "metadata": {},
     "output_type": "display_data"
    }
   ],
   "source": [
    "# Plot a histogram of confidence scores\n",
    "\n",
    "plt.hist(df['airline_sentiment_confidence'], bins=50)\n",
    "plt.title(\"Sentiment confidence scores\")\n",
    "plt.xlabel(\"Score\")\n",
    "plt.ylabel(\"Count\")\n",
    "plt.show()"
   ]
  },
  {
   "cell_type": "markdown",
   "metadata": {},
   "source": [
    "#### Preprocessing layers\n",
    "\n",
    "PyTorch does not accept strings in tensor or datasets, therefore, we need to apply Preprocessing steps while creating the Dataset. To do this, we can create a custom Dataset.\n",
    "\n",
    "We will need to convert the string data into a numeric representation for the models to process it.\n",
    "\n",
    "In our custom dataset we will:\n",
    "- Look at the output labels and convert them to a one-hot encoding.\n",
    "- Process the input tweet text and vectorize it"
   ]
  },
  {
   "cell_type": "code",
   "execution_count": 10,
   "metadata": {},
   "outputs": [],
   "source": [
    "def preprocess_text(sentences):\n",
    "    all_words = defaultdict(int)\n",
    "    max_len = 0\n",
    "    for sentence in sentences:\n",
    "        sentence_len = 0\n",
    "        words = sentence.lower().strip().split()\n",
    "        for word in words:\n",
    "            # Remove all non-alphanumeric characters\n",
    "            word = re.sub(r'[^a-zA-Z0-9]', '', word)\n",
    "            if word == \"\":\n",
    "                continue\n",
    "            all_words[word] += 1\n",
    "            sentence_len += 1\n",
    "        if sentence_len > max_len:\n",
    "            max_len = sentence_len\n",
    "    vocab = sorted(all_words.items(), key=lambda x:x[1], reverse=True)\n",
    "    word_to_idx = {word[0]: i for i, word in enumerate(vocab)}\n",
    "    return word_to_idx, max_len"
   ]
  },
  {
   "cell_type": "code",
   "execution_count": 11,
   "metadata": {},
   "outputs": [],
   "source": [
    "vocab_size = 1000\n",
    "word_to_idx, max_sentence_len = preprocess_text(df[\"text\"])"
   ]
  },
  {
   "cell_type": "code",
   "execution_count": 14,
   "metadata": {},
   "outputs": [],
   "source": [
    "def tokenise(words, word_to_idx, max_vocab_size):\n",
    "    tokenised_sentence = []\n",
    "    # remove empty words\n",
    "    words = list(filter(None, words))\n",
    "    for word in words:\n",
    "        if word in word_to_idx:\n",
    "            token = word_to_idx[word] + 2\n",
    "            if token >= max_vocab_size:\n",
    "                tokenised_sentence.append(1)\n",
    "            else:\n",
    "                tokenised_sentence.append(token)\n",
    "        else:\n",
    "            tokenised_sentence.append(1)\n",
    "    return tokenised_sentence"
   ]
  },
  {
   "cell_type": "code",
   "execution_count": 16,
   "metadata": {},
   "outputs": [],
   "source": [
    "class TweetDataset(torch.utils.data.Dataset):\n",
    "    def __init__(self, csv_path, word_to_ix, max_vocab_size, max_sentence_len):\n",
    "        df = pd.read_csv(csv_path)\n",
    "        # Filter out low confidence labels\n",
    "        self.df = df[df['airline_sentiment_confidence'] > 0.5]\n",
    "        self.labels = {'negative': 0, 'neutral': 1, 'positive': 2}\n",
    "        self.word_to_ix = word_to_ix\n",
    "        self.max_vocab_size = max_vocab_size\n",
    "        self.max_sentence_len = max_sentence_len\n",
    "\n",
    "    def __len__(self):\n",
    "        return len(self.df)\n",
    "\n",
    "    def __getitem__(self, index):\n",
    "        elem = self.df.iloc[index]\n",
    "        words = elem[\"text\"].strip().lower().split()\n",
    "        words = [re.sub(r'[^a-zA-Z0-9]', '', word) for word in words]\n",
    "        tokenised_text = tokenise(words, self.word_to_ix, self.max_vocab_size)\n",
    "        text_tensor = torch.tensor(tokenised_text, dtype=torch.long)\n",
    "        if self.max_sentence_len - len(text_tensor) > 0:\n",
    "            pad = torch.zeros(self.max_sentence_len - len(text_tensor), dtype=torch.long)\n",
    "            text_tensor = torch.cat((text_tensor, pad))\n",
    "        label = self.labels[elem[\"airline_sentiment\"]]\n",
    "        return text_tensor, label"
   ]
  },
  {
   "cell_type": "code",
   "execution_count": 17,
   "metadata": {},
   "outputs": [],
   "source": [
    "train_dataset = TweetDataset('../../datasets/tweets/train.csv', word_to_idx, vocab_size, max_sentence_len)\n",
    "val_dataset = TweetDataset('../../datasets/tweets/val.csv', word_to_idx, vocab_size, max_sentence_len)\n",
    "test_dataset = TweetDataset('../../datasets/tweets/test.csv', word_to_idx, vocab_size, max_sentence_len)\n",
    "\n",
    "train_dataloader = torch.utils.data.DataLoader(train_dataset, batch_size=16, shuffle=True, drop_last=True)\n",
    "val_dataloader = torch.utils.data.DataLoader(val_dataset, batch_size=16, shuffle=True, drop_last=True)\n",
    "test_dataloader = torch.utils.data.DataLoader(test_dataset, batch_size=16, shuffle=True, drop_last=True)"
   ]
  },
  {
   "cell_type": "code",
   "execution_count": 18,
   "metadata": {},
   "outputs": [
    {
     "name": "stdout",
     "output_type": "stream",
     "text": [
      "(tensor([ 18,   4,  23,   5, 488, 100,  48, 117,   1, 188, 405,   5, 527, 100,\n",
      "          1, 182, 100,  32,  49,  42, 957,   0,   0,   0,   0,   0,   0,   0,\n",
      "          0,   0,   0,   0,   0,   0,   0]), 2)\n"
     ]
    }
   ],
   "source": [
    "# View a sample from the training Dataset\n",
    "\n",
    "for elem in train_dataset:\n",
    "    print(elem)\n",
    "    break"
   ]
  },
  {
   "cell_type": "markdown",
   "metadata": {},
   "source": [
    "#### Embedding layer\n",
    "\n",
    "We are now able to process the text data into numerical form. However, the input integer tokens should be further processed to transform them into a representation that is more useful for the network. This is where the `Embedding` layer can be used - it creates a lookup table of vectors in $\\mathbb{R}^D$ such that each integer token in the vocabulary has its own $D$-dimensional embedding vector."
   ]
  },
  {
   "cell_type": "code",
   "execution_count": 20,
   "metadata": {},
   "outputs": [],
   "source": [
    "# Create an embedding layer\n",
    "\n",
    "embedding_dim = 10\n",
    "embedding = nn.Embedding(vocab_size, embedding_dim).to(device)"
   ]
  },
  {
   "cell_type": "code",
   "execution_count": 23,
   "metadata": {},
   "outputs": [
    {
     "name": "stdout",
     "output_type": "stream",
     "text": [
      "tensor([ 18,   4,  23,   5, 488, 100,  48, 117,   1, 188, 405,   5, 527, 100,\n",
      "          1, 182, 100,  32,  49,  42, 957,   0,   0,   0,   0,   0,   0,   0,\n",
      "          0,   0,   0,   0,   0,   0,   0])\n",
      "torch.Size([35, 10])\n"
     ]
    }
   ],
   "source": [
    "# View the output of the embedding layer\n",
    "\n",
    "for t, _ in train_dataset:\n",
    "    print(t)\n",
    "    print(embedding(t.to(device)).shape)\n",
    "    break"
   ]
  },
  {
   "cell_type": "code",
   "execution_count": 24,
   "metadata": {},
   "outputs": [],
   "source": [
    "# Build the classifier\n",
    "\n",
    "class extract_tensor(nn.Module):\n",
    "    def forward(self, x):\n",
    "        tensor, _ = x\n",
    "        return tensor[:, -1, :]\n",
    "\n",
    "lstm_classifier = nn.Sequential(\n",
    "    embedding,\n",
    "    nn.LSTM(input_size=embedding_dim, hidden_size=8, batch_first=True, bidirectional=True),\n",
    "    extract_tensor(),\n",
    "    nn.Linear(16,3)\n",
    ").to(device)"
   ]
  },
  {
   "cell_type": "code",
   "execution_count": 25,
   "metadata": {},
   "outputs": [
    {
     "data": {
      "text/plain": [
       "=================================================================\n",
       "Layer (type:depth-idx)                   Param #\n",
       "=================================================================\n",
       "Sequential                               --\n",
       "├─Embedding: 1-1                         10,000\n",
       "├─LSTM: 1-2                              1,280\n",
       "├─extract_tensor: 1-3                    --\n",
       "├─Linear: 1-4                            51\n",
       "=================================================================\n",
       "Total params: 11,331\n",
       "Trainable params: 11,331\n",
       "Non-trainable params: 0\n",
       "================================================================="
      ]
     },
     "execution_count": 25,
     "metadata": {},
     "output_type": "execute_result"
    }
   ],
   "source": [
    "summary(lstm_classifier, device=device)"
   ]
  },
  {
   "cell_type": "code",
   "execution_count": 28,
   "metadata": {},
   "outputs": [],
   "source": [
    "def get_accuracy(pred, actual):\n",
    "    total = len(pred)\n",
    "    predicted = torch.argmax(pred, axis=1)\n",
    "    correct = (predicted == actual).sum().item()\n",
    "    return correct\n",
    "\n",
    "def train(model, num_epochs, train_dl, val_dl):\n",
    "    train_losses = []\n",
    "    val_losses = []\n",
    "    train_accs = []\n",
    "    val_accs = []\n",
    "\n",
    "    # Define loss function and optimiser\n",
    "    optimizer = torch.optim.Adam(model.parameters())\n",
    "    loss_function = torch.nn.CrossEntropyLoss()\n",
    "\n",
    "    for epoch in range(0, num_epochs):\n",
    "\n",
    "        # Initialise train and validation loss to 0\n",
    "        train_loss = 0.0\n",
    "        val_loss = 0.0\n",
    "        train_acc = 0.0\n",
    "        val_acc = 0.0\n",
    "\n",
    "        model.train()\n",
    "\n",
    "        for train_input, train_target in train_dl:\n",
    "            train_input = train_input.to(device)\n",
    "            train_target = train_target.to(device)\n",
    "            optimizer.zero_grad()\n",
    "            predict = model(train_input)\n",
    "            loss = loss_function(predict, train_target)\n",
    "            loss.backward()\n",
    "            optimizer.step()\n",
    "            train_loss += loss.item()\n",
    "            train_acc += get_accuracy(predict, train_target)\n",
    "\n",
    "        model.eval()\n",
    "\n",
    "        for val_input, val_target in val_dl:\n",
    "            val_input = val_input.to(device)\n",
    "            val_target = val_target.to(device)\n",
    "            predict = model(val_input)\n",
    "            loss = loss_function(predict, val_target)\n",
    "\n",
    "            val_loss += loss.item()\n",
    "            val_acc += get_accuracy(predict, val_target)\n",
    "        \n",
    "        train_loss = train_loss / len(train_dl)\n",
    "        val_loss = val_loss / len(train_dl)\n",
    "        train_acc = train_acc / (len(train_dl) * 16)\n",
    "        val_acc = val_acc / (len(val_dl) * 16)\n",
    "\n",
    "        train_accs.append(train_acc)\n",
    "        val_accs.append(val_acc)\n",
    "        train_losses.append(train_loss)\n",
    "        val_losses.append(val_loss)\n",
    "        \n",
    "        print('Epoch: {} - Train Loss: {:.4f} - Validation Loss: {:.4f}'.format(epoch+1, train_loss, val_loss))   \n",
    "        print('Epoch: {} - Train Acc: {:.4f} - Validation Acc: {:.4f}'.format(epoch+1, train_acc, val_acc))   \n",
    "    \n",
    "    return {'loss': train_losses, 'val_loss': val_losses, 'acc': train_accs, 'val_acc': val_accs}"
   ]
  },
  {
   "cell_type": "code",
   "execution_count": 31,
   "metadata": {},
   "outputs": [
    {
     "name": "stdout",
     "output_type": "stream",
     "text": [
      "Epoch: 1 - Train Loss: 0.5492 - Validation Loss: 0.2209\n",
      "Epoch: 1 - Train Acc: 0.7781 - Validation Acc: 0.7205\n",
      "Epoch: 2 - Train Loss: 0.5378 - Validation Loss: 0.2175\n",
      "Epoch: 2 - Train Acc: 0.7823 - Validation Acc: 0.7205\n",
      "Epoch: 3 - Train Loss: 0.5246 - Validation Loss: 0.2175\n",
      "Epoch: 3 - Train Acc: 0.7896 - Validation Acc: 0.7288\n",
      "Epoch: 4 - Train Loss: 0.5153 - Validation Loss: 0.2145\n",
      "Epoch: 4 - Train Acc: 0.7942 - Validation Acc: 0.7361\n",
      "Epoch: 5 - Train Loss: 0.5040 - Validation Loss: 0.2202\n",
      "Epoch: 5 - Train Acc: 0.8039 - Validation Acc: 0.7271\n",
      "Epoch: 6 - Train Loss: 0.4971 - Validation Loss: 0.2285\n",
      "Epoch: 6 - Train Acc: 0.8088 - Validation Acc: 0.7198\n",
      "Epoch: 7 - Train Loss: 0.4860 - Validation Loss: 0.2201\n",
      "Epoch: 7 - Train Acc: 0.8155 - Validation Acc: 0.7354\n",
      "Epoch: 8 - Train Loss: 0.4788 - Validation Loss: 0.2196\n",
      "Epoch: 8 - Train Acc: 0.8179 - Validation Acc: 0.7392\n",
      "Epoch: 9 - Train Loss: 0.4703 - Validation Loss: 0.2271\n",
      "Epoch: 9 - Train Acc: 0.8236 - Validation Acc: 0.7323\n",
      "Epoch: 10 - Train Loss: 0.4647 - Validation Loss: 0.2234\n",
      "Epoch: 10 - Train Acc: 0.8258 - Validation Acc: 0.7451\n",
      "Epoch: 11 - Train Loss: 0.4551 - Validation Loss: 0.2196\n",
      "Epoch: 11 - Train Acc: 0.8322 - Validation Acc: 0.7392\n",
      "Epoch: 12 - Train Loss: 0.4452 - Validation Loss: 0.2241\n",
      "Epoch: 12 - Train Acc: 0.8380 - Validation Acc: 0.7417\n",
      "Epoch: 13 - Train Loss: 0.4413 - Validation Loss: 0.2310\n",
      "Epoch: 13 - Train Acc: 0.8406 - Validation Acc: 0.7372\n",
      "Epoch: 14 - Train Loss: 0.4352 - Validation Loss: 0.2256\n",
      "Epoch: 14 - Train Acc: 0.8412 - Validation Acc: 0.7396\n",
      "Epoch: 15 - Train Loss: 0.4292 - Validation Loss: 0.2304\n",
      "Epoch: 15 - Train Acc: 0.8479 - Validation Acc: 0.7347\n",
      "Epoch: 16 - Train Loss: 0.4225 - Validation Loss: 0.2313\n",
      "Epoch: 16 - Train Acc: 0.8507 - Validation Acc: 0.7378\n",
      "Epoch: 17 - Train Loss: 0.4162 - Validation Loss: 0.2290\n",
      "Epoch: 17 - Train Acc: 0.8521 - Validation Acc: 0.7413\n",
      "Epoch: 18 - Train Loss: 0.4117 - Validation Loss: 0.2302\n",
      "Epoch: 18 - Train Acc: 0.8571 - Validation Acc: 0.7375\n",
      "Epoch: 19 - Train Loss: 0.4047 - Validation Loss: 0.2349\n",
      "Epoch: 19 - Train Acc: 0.8586 - Validation Acc: 0.7427\n",
      "Epoch: 20 - Train Loss: 0.4018 - Validation Loss: 0.2346\n",
      "Epoch: 20 - Train Acc: 0.8623 - Validation Acc: 0.7385\n",
      "Epoch: 21 - Train Loss: 0.3971 - Validation Loss: 0.2372\n",
      "Epoch: 21 - Train Acc: 0.8633 - Validation Acc: 0.7385\n",
      "Epoch: 22 - Train Loss: 0.3890 - Validation Loss: 0.2391\n",
      "Epoch: 22 - Train Acc: 0.8679 - Validation Acc: 0.7351\n",
      "Epoch: 23 - Train Loss: 0.3835 - Validation Loss: 0.2429\n",
      "Epoch: 23 - Train Acc: 0.8711 - Validation Acc: 0.7399\n",
      "Epoch: 24 - Train Loss: 0.3785 - Validation Loss: 0.2460\n",
      "Epoch: 24 - Train Acc: 0.8733 - Validation Acc: 0.7431\n",
      "Epoch: 25 - Train Loss: 0.3719 - Validation Loss: 0.2439\n",
      "Epoch: 25 - Train Acc: 0.8775 - Validation Acc: 0.7396\n",
      "Epoch: 26 - Train Loss: 0.3716 - Validation Loss: 0.2489\n",
      "Epoch: 26 - Train Acc: 0.8753 - Validation Acc: 0.7365\n",
      "Epoch: 27 - Train Loss: 0.3625 - Validation Loss: 0.2543\n",
      "Epoch: 27 - Train Acc: 0.8811 - Validation Acc: 0.7389\n",
      "Epoch: 28 - Train Loss: 0.3595 - Validation Loss: 0.2547\n",
      "Epoch: 28 - Train Acc: 0.8830 - Validation Acc: 0.7368\n",
      "Epoch: 29 - Train Loss: 0.3526 - Validation Loss: 0.2663\n",
      "Epoch: 29 - Train Acc: 0.8875 - Validation Acc: 0.7285\n",
      "Epoch: 30 - Train Loss: 0.3504 - Validation Loss: 0.2578\n",
      "Epoch: 30 - Train Acc: 0.8877 - Validation Acc: 0.7340\n",
      "Epoch: 31 - Train Loss: 0.3447 - Validation Loss: 0.2586\n",
      "Epoch: 31 - Train Acc: 0.8890 - Validation Acc: 0.7316\n",
      "Epoch: 32 - Train Loss: 0.3374 - Validation Loss: 0.2550\n",
      "Epoch: 32 - Train Acc: 0.8946 - Validation Acc: 0.7337\n",
      "Epoch: 33 - Train Loss: 0.3406 - Validation Loss: 0.2693\n",
      "Epoch: 33 - Train Acc: 0.8922 - Validation Acc: 0.7351\n",
      "Epoch: 34 - Train Loss: 0.3310 - Validation Loss: 0.2762\n",
      "Epoch: 34 - Train Acc: 0.8966 - Validation Acc: 0.7354\n",
      "Epoch: 35 - Train Loss: 0.3245 - Validation Loss: 0.2721\n",
      "Epoch: 35 - Train Acc: 0.8994 - Validation Acc: 0.7354\n",
      "Epoch: 36 - Train Loss: 0.3197 - Validation Loss: 0.2735\n",
      "Epoch: 36 - Train Acc: 0.9002 - Validation Acc: 0.7323\n",
      "Epoch: 37 - Train Loss: 0.3172 - Validation Loss: 0.2667\n",
      "Epoch: 37 - Train Acc: 0.9019 - Validation Acc: 0.7326\n",
      "Epoch: 38 - Train Loss: 0.3093 - Validation Loss: 0.2721\n",
      "Epoch: 38 - Train Acc: 0.9057 - Validation Acc: 0.7295\n",
      "Epoch: 39 - Train Loss: 0.3239 - Validation Loss: 0.2733\n",
      "Epoch: 39 - Train Acc: 0.8988 - Validation Acc: 0.7306\n",
      "Epoch: 40 - Train Loss: 0.3062 - Validation Loss: 0.2794\n",
      "Epoch: 40 - Train Acc: 0.9054 - Validation Acc: 0.7274\n",
      "Epoch: 41 - Train Loss: 0.3067 - Validation Loss: 0.2835\n",
      "Epoch: 41 - Train Acc: 0.9071 - Validation Acc: 0.7299\n",
      "Epoch: 42 - Train Loss: 0.3061 - Validation Loss: 0.2796\n",
      "Epoch: 42 - Train Acc: 0.9064 - Validation Acc: 0.7337\n",
      "Epoch: 43 - Train Loss: 0.3017 - Validation Loss: 0.2830\n",
      "Epoch: 43 - Train Acc: 0.9076 - Validation Acc: 0.7288\n",
      "Epoch: 44 - Train Loss: 0.3008 - Validation Loss: 0.2852\n",
      "Epoch: 44 - Train Acc: 0.9080 - Validation Acc: 0.7278\n",
      "Epoch: 45 - Train Loss: 0.2983 - Validation Loss: 0.2858\n",
      "Epoch: 45 - Train Acc: 0.9102 - Validation Acc: 0.7271\n",
      "Epoch: 46 - Train Loss: 0.2926 - Validation Loss: 0.2858\n",
      "Epoch: 46 - Train Acc: 0.9117 - Validation Acc: 0.7337\n",
      "Epoch: 47 - Train Loss: 0.2964 - Validation Loss: 0.2900\n",
      "Epoch: 47 - Train Acc: 0.9090 - Validation Acc: 0.7281\n",
      "Epoch: 48 - Train Loss: 0.2892 - Validation Loss: 0.2905\n",
      "Epoch: 48 - Train Acc: 0.9116 - Validation Acc: 0.7201\n",
      "Epoch: 49 - Train Loss: 0.2842 - Validation Loss: 0.2972\n",
      "Epoch: 49 - Train Acc: 0.9157 - Validation Acc: 0.7219\n",
      "Epoch: 50 - Train Loss: 0.2830 - Validation Loss: 0.2926\n",
      "Epoch: 50 - Train Acc: 0.9183 - Validation Acc: 0.7219\n"
     ]
    }
   ],
   "source": [
    "history = train(lstm_classifier, 50, train_dl=train_dataloader, val_dl=val_dataloader)"
   ]
  },
  {
   "cell_type": "code",
   "execution_count": 32,
   "metadata": {},
   "outputs": [
    {
     "data": {
      "image/png": "[encoded data removed]",
      "text/plain": [
       "<Figure size 1500x400 with 2 Axes>"
      ]
     },
     "metadata": {},
     "output_type": "display_data"
    }
   ],
   "source": [
    "# Plot the learning curves\n",
    "\n",
    "fig = plt.figure(figsize=(15, 4))\n",
    "\n",
    "plt.subplot(1, 2, 1)\n",
    "plt.plot(history['loss'], label='train')\n",
    "plt.plot(history['val_loss'], label='validation')\n",
    "plt.legend()\n",
    "plt.title(\"Loss vs epoch\")\n",
    "\n",
    "plt.subplot(1, 2, 2)\n",
    "plt.plot(history['acc'], label='train')\n",
    "plt.plot(history['val_acc'], label='validation')\n",
    "plt.legend()\n",
    "plt.title(\"Accuracy vs epoch\")\n",
    "\n",
    "plt.show()"
   ]
  },
  {
   "cell_type": "code",
   "execution_count": 33,
   "metadata": {},
   "outputs": [],
   "source": [
    "def eval_model(model, test_dl):\n",
    "\n",
    "    loss_fn = torch.nn.CrossEntropyLoss()\n",
    "\n",
    "    model.eval()\n",
    "    test_loss = 0\n",
    "\n",
    "    for test_input, test_target in test_dl:\n",
    "        test_input = test_input.to(device)\n",
    "        test_target = test_target.to(device)\n",
    "        predict = model(test_input)\n",
    "        loss = loss_fn(predict, test_target)\n",
    "\n",
    "        test_loss += loss.item()\n",
    "        test_acc = get_accuracy(predict, test_target)\n",
    "    \n",
    "    test_loss = test_loss / len(test_dl)\n",
    "\n",
    "    return {'test_loss': test_loss, 'test_accuracy': test_acc}"
   ]
  },
  {
   "cell_type": "code",
   "execution_count": 35,
   "metadata": {},
   "outputs": [
    {
     "name": "stdout",
     "output_type": "stream",
     "text": [
      "0.82789246092795\n",
      "10\n"
     ]
    }
   ],
   "source": [
    "metrics = eval_model(lstm_classifier, test_dataloader)\n",
    "print(metrics[\"test_loss\"])\n",
    "print(metrics[\"test_accuracy\"])"
   ]
  },
  {
   "cell_type": "code",
   "execution_count": 37,
   "metadata": {},
   "outputs": [
    {
     "name": "stdout",
     "output_type": "stream",
     "text": [
      "['americanair', 'OOV', 'american', 'when', 'did', '2', 'hour', 'hold', 'times', 'OOV', 'the', 'OOV', 'OOV', 'have', 'you', 'heard', 'of', 'OOV', 'OOV', 'during', 'weather', '', '', '', '', '', '', '', '', '', '', '', '', '', '']\n",
      "True label: positive\n",
      "Predicted label: positive\n",
      "\n",
      "['southwestair', 'why', 'can', 'we', 'no', 'longer', 'change', 'OOV', 'with', 'a', 'companion', 'online', 'been', 'doing', 'it', 'for', 'years', 'now', 'get', 'message', 'cant', 'be', 'done', 'online', '', '', '', '', '', '', '', '', '', '', '']\n",
      "True label: positive\n",
      "Predicted label: positive\n",
      "\n",
      "['always', 'have', 'it', 'together', 'youre', 'OOV', 'rt', 'virginamerica', 'OOV', 'youre', 'so', 'OOV', '', '', '', '', '', '', '', '', '', '', '', '', '', '', '', '', '', '', '', '', '', '', '']\n",
      "True label: neutral\n",
      "Predicted label: neutral\n",
      "\n",
      "['united', 'this', 'flight', 'has', 'been', 'amazing', 'this', 'is', 'the', 'best', 'flight', 'i', 'have', 'ever', 'been', 'on', 'i', 'am', 'not', 'OOV', 'service', 'is', 'OOV', '', '', '', '', '', '', '', '', '', '', '', '']\n",
      "True label: neutral\n",
      "Predicted label: neutral\n",
      "\n",
      "['jetblue', 'every', 'crew', 'member', 'i', 'OOV', 'with', 'in', 'orlando', 'was', 'OOV', 'rude', 'im', 'actually', 'pretty', 'OOV', 'with', 'jetblue', 'right', 'now', '', '', '', '', '', '', '', '', '', '', '', '', '', '', '']\n",
      "True label: positive\n",
      "Predicted label: positive\n",
      "\n",
      "['jetblue', 'our', 'fleets', 'on', 'fleek', 'OOV', 'i', 'just', '', '', '', '', '', '', '', '', '', '', '', '', '', '', '', '', '', '', '', '', '', '', '', '', '', '', '']\n",
      "True label: negative\n",
      "Predicted label: negative\n",
      "\n",
      "['americanair', 'is', 'non', 'OOV', 'and', 'i', 'will', 'take', 'this', 'as', 'far', 'as', 'OOV', 'OOV', 'behind', 'a', 'OOV', 'OOV', 'provide', 'a', 'number', 'OOV', 'OOV', 'OOV', '', '', '', '', '', '', '', '', '', '', '']\n",
      "True label: positive\n",
      "Predicted label: positive\n",
      "\n",
      "['united', 'please', 'OOV', 'someone', 'at', 'the', 'arriving', 'gate', 'of', 'flight', 'OOV', 'to', 'chicago', 'for', 'either', 'a', 'refund', 'or', 'first', 'class', 'upgrade', '', '', '', '', '', '', '', '', '', '', '', '', '', '']\n",
      "True label: negative\n",
      "Predicted label: positive\n",
      "\n",
      "['usairways', 'flight', 'booking', 'problems', 'a', 'flight', 'using', 'credit', 'from', 'a', 'OOV', 'cancelled', 'flightled', 'flight', 'cant', 'get', 'thru', 'on', 'the', 'phone', 'and', 'cant', 'book', 'online', 'help', 'please', '', '', '', '', '', '', '', '', '']\n",
      "True label: positive\n",
      "Predicted label: positive\n",
      "\n",
      "['united', 'OOV', 'to', 'OOV', 'OOV', 'OOV', 'route', 'on', 'may', '6', 'OOV', 'OOV', 'OOV', 'OOV', '', '', '', '', '', '', '', '', '', '', '', '', '', '', '', '', '', '', '', '', '']\n",
      "True label: negative\n",
      "Predicted label: positive\n",
      "\n",
      "['united', 'OOV', 'couldnt', 'get', 'our', 'bags', 'to', 'connect', 'on', 'our', 'OOV', 'flight', 'to', 'OOV', 'so', 'have', 'to', 'get', 'OOV', 'in', 'la', 'amp', 'check', 'OOV', 'in', 'there', '', '', '', '', '', '', '', '', '']\n",
      "True label: positive\n",
      "Predicted label: positive\n",
      "\n",
      "['united', 'last', 'night', 'we', 'waited', 'OOV', 'at', 'the', 'gate', 'because', 'someone', 'from', 'OOV', 'OOV', 'OOV', 'to', 'call', 'the', 'crew', 'OOV', '', '', '', '', '', '', '', '', '', '', '', '', '', '', '']\n",
      "True label: positive\n",
      "Predicted label: positive\n",
      "\n",
      "['americanair', 'due', 'to', 'OOV', 'OOV', '', '', '', '', '', '', '', '', '', '', '', '', '', '', '', '', '', '', '', '', '', '', '', '', '', '', '', '', '', '']\n",
      "True label: negative\n",
      "Predicted label: negative\n",
      "\n",
      "['usairways', 'we', 'are', 'boarding', 'now', 'but', 'have', 'yet', 'to', 'depart', 'thanks', 'for', 'the', 'response', '', '', '', '', '', '', '', '', '', '', '', '', '', '', '', '', '', '', '', '', '']\n",
      "True label: neutral\n",
      "Predicted label: negative\n",
      "\n",
      "['jetblue', 'thank', 'you', 'what', 'about', 'OOV', 'could', 'we', 'OOV', 'something', 'from', 'there', '', '', '', '', '', '', '', '', '', '', '', '', '', '', '', '', '', '', '', '', '', '', '']\n",
      "True label: negative\n",
      "Predicted label: neutral\n",
      "\n",
      "['OOV', 'rt', 'united', 'OOV', 'im', 'sorry', 'were', 'not', 'able', 'to', 'offer', 'a', 'full', 'refund', 'because', 'the', 'OOV', 'OOV', 'is', 'not', 'what', 'you', 'were', 'hoping', 'for', 'OOV', '', '', '', '', '', '', '', '', '']\n",
      "True label: positive\n",
      "Predicted label: positive\n",
      "\n"
     ]
    }
   ],
   "source": [
    "# View some model predictions on the test set\n",
    "\n",
    "def token_to_word(token, idx_to_word):\n",
    "    if token == 0:\n",
    "        return ''\n",
    "    elif token == 1:\n",
    "        return 'OOV'\n",
    "    else:\n",
    "        return idx_to_word[token-2][0]\n",
    "\n",
    "output_labels = np.array(['positive', 'negative', 'neutral'])\n",
    "\n",
    "for text_batch, label_batch in test_dataloader:\n",
    "    # we need to add 1 dimension as the batch dim\n",
    "    ground_truth = output_labels[label_batch]\n",
    "    predicted_label = lstm_classifier(text_batch.to(device))\n",
    "    predicted_label_ints = np.argmax(predicted_label.cpu().detach().numpy(), axis=1)\n",
    "    predicted_labels = output_labels[predicted_label_ints]\n",
    "    break\n",
    "\n",
    "idx_to_word = sorted(word_to_idx.items(), key=lambda item: item[1])\n",
    "\n",
    "for t, l, g in zip(text_batch, predicted_labels, ground_truth):\n",
    "    print([token_to_word(w_token, idx_to_word) for w_token in t.numpy()])\n",
    "    print(\"True label: {}\\nPredicted label: {}\\n\".format(g, l))"
   ]
  },
  {
   "cell_type": "code",
   "execution_count": null,
   "metadata": {},
   "outputs": [],
   "source": []
  }
 ],
 "metadata": {
  "kernelspec": {
   "display_name": "Python 3",
   "language": "python",
   "name": "python3"
  },
  "language_info": {
   "codemirror_mode": {
    "name": "ipython",
    "version": 3
   },
   "file_extension": ".py",
   "mimetype": "text/x-python",
   "name": "python",
   "nbconvert_exporter": "python",
   "pygments_lexer": "ipython3",
   "version": "3.11.4"
  }
 },
 "nbformat": 4,
 "nbformat_minor": 2
}
